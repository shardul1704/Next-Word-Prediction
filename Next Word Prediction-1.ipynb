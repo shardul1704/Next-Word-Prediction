{
 "cells": [
  {
   "cell_type": "markdown",
   "metadata": {},
   "source": [
    "# Next Word Prediction:"
   ]
  },
  {
   "cell_type": "markdown",
   "metadata": {},
   "source": [
    "### Importing The Required Libraries:"
   ]
  },
  {
   "cell_type": "code",
   "execution_count": 3,
   "metadata": {},
   "outputs": [],
   "source": [
    "import tensorflow as tf\n",
    "from tensorflow.keras.preprocessing.text import Tokenizer\n",
    "from tensorflow.keras.layers import Embedding, LSTM, Dense\n",
    "from tensorflow.keras.models import Sequential\n",
    "from tensorflow.keras.utils import to_categorical\n",
    "from tensorflow.keras.optimizers import Adam\n",
    "import pickle\n",
    "import numpy as np\n",
    "import os"
   ]
  },
  {
   "cell_type": "code",
   "execution_count": 4,
   "metadata": {},
   "outputs": [
    {
     "name": "stdout",
     "output_type": "stream",
     "text": [
      "The First Line:  ﻿One morning, when Gregor Samsa woke from troubled dreams, he found\n",
      "\n",
      "The Last Line:  first to get up and stretch out her young body.\n"
     ]
    }
   ],
   "source": [
    "\"\"\"\n",
    "    Dataset: http://www.gutenberg.org/cache/epub/5200/pg5200.txt\n",
    "    Remove all the unnecessary data and label it as Metamorphosis-clean.\n",
    "    The starting and ending lines should be as follows.\n",
    "\n",
    "\"\"\"\n",
    "\n",
    "\n",
    "file = open(\"metamorphosis_clean.txt\", \"r\", encoding = \"utf8\")\n",
    "lines = []\n",
    "\n",
    "for i in file:\n",
    "    lines.append(i)\n",
    "    \n",
    "print(\"The First Line: \", lines[0])\n",
    "print(\"The Last Line: \", lines[-1])"
   ]
  },
  {
   "cell_type": "markdown",
   "metadata": {},
   "source": [
    "### Cleaning the data:"
   ]
  },
  {
   "cell_type": "code",
   "execution_count": 5,
   "metadata": {},
   "outputs": [
    {
     "data": {
      "text/plain": [
       "'One morning, when Gregor Samsa woke from troubled dreams, he found himself transformed in his bed into a horrible vermin.  He lay on his armour-like back, and if he lifted his head a little he could see his brown belly, slightly domed and divided by arches into stiff sections.  The bedding was hardly able to cover it and seemed ready to slide off any moment.'"
      ]
     },
     "execution_count": 5,
     "metadata": {},
     "output_type": "execute_result"
    }
   ],
   "source": [
    "data = \"\"\n",
    "\n",
    "for i in lines:\n",
    "    data = ' '. join(lines)\n",
    "    \n",
    "data = data.replace('\\n', '').replace('\\r', '').replace('\\ufeff', '')\n",
    "data[:360]"
   ]
  },
  {
   "cell_type": "code",
   "execution_count": 6,
   "metadata": {},
   "outputs": [
    {
     "data": {
      "text/plain": [
       "'One morning  when Gregor Samsa woke from troubled dreams  he found himself transformed in his bed into a horrible vermin   He lay on his armour like back  and if he lifted his head a little he could see his brown belly  slightly domed and divided by arches into stiff sections   The bedding was hardly able to cover it and seemed ready to slide off any moment   His many legs  pitifully thin compared with the size of the rest of him  waved about helplessly as he looked    What s happened to me   he'"
      ]
     },
     "execution_count": 6,
     "metadata": {},
     "output_type": "execute_result"
    }
   ],
   "source": [
    "import string\n",
    "\n",
    "translator = str.maketrans(string.punctuation, ' '*len(string.punctuation)) #map punctuation to space\n",
    "new_data = data.translate(translator)\n",
    "\n",
    "new_data[:500]"
   ]
  },
  {
   "cell_type": "code",
   "execution_count": 7,
   "metadata": {},
   "outputs": [
    {
     "data": {
      "text/plain": [
       "'One morning, when Gregor Samsa woke from troubled dreams, he found himself transformed in his bed into a horrible vermin. He lay on armour-like back, and if lifted head little could see brown belly, slightly domed divided by arches stiff sections. The bedding was hardly able to cover it seemed ready slide off any moment. His many legs, pitifully thin compared with the size of rest him, waved about helplessly as looked. \"What\\'s happened me?\" thought. It wasn\\'t dream. room, proper human room altho'"
      ]
     },
     "execution_count": 7,
     "metadata": {},
     "output_type": "execute_result"
    }
   ],
   "source": [
    "z = []\n",
    "\n",
    "for i in data.split():\n",
    "    if i not in z:\n",
    "        z.append(i)\n",
    "        \n",
    "data = ' '.join(z)\n",
    "data[:500]"
   ]
  },
  {
   "cell_type": "markdown",
   "metadata": {},
   "source": [
    "### Tokenization:"
   ]
  },
  {
   "cell_type": "code",
   "execution_count": 8,
   "metadata": {},
   "outputs": [
    {
     "data": {
      "text/plain": [
       "[17, 53, 293, 2, 18, 729, 135, 730, 294, 8]"
      ]
     },
     "execution_count": 8,
     "metadata": {},
     "output_type": "execute_result"
    }
   ],
   "source": [
    "tokenizer = Tokenizer()\n",
    "tokenizer.fit_on_texts([data])\n",
    "\n",
    "# saving the tokenizer for predict function.\n",
    "pickle.dump(tokenizer, open('tokenizer1.pkl', 'wb'))\n",
    "\n",
    "sequence_data = tokenizer.texts_to_sequences([data])[0]\n",
    "sequence_data[:10]"
   ]
  },
  {
   "cell_type": "code",
   "execution_count": 9,
   "metadata": {},
   "outputs": [
    {
     "name": "stdout",
     "output_type": "stream",
     "text": [
      "2617\n"
     ]
    }
   ],
   "source": [
    "vocab_size = len(tokenizer.word_index) + 1\n",
    "print(vocab_size)"
   ]
  },
  {
   "cell_type": "code",
   "execution_count": 10,
   "metadata": {},
   "outputs": [
    {
     "name": "stdout",
     "output_type": "stream",
     "text": [
      "The Length of sequences are:  3889\n"
     ]
    },
    {
     "data": {
      "text/plain": [
       "array([[ 17,  53],\n",
       "       [ 53, 293],\n",
       "       [293,   2],\n",
       "       [  2,  18],\n",
       "       [ 18, 729],\n",
       "       [729, 135],\n",
       "       [135, 730],\n",
       "       [730, 294],\n",
       "       [294,   8],\n",
       "       [  8, 731]])"
      ]
     },
     "execution_count": 10,
     "metadata": {},
     "output_type": "execute_result"
    }
   ],
   "source": [
    "sequences = []\n",
    "\n",
    "for i in range(1, len(sequence_data)):\n",
    "    words = sequence_data[i-1:i+1]\n",
    "    sequences.append(words)\n",
    "    \n",
    "print(\"The Length of sequences are: \", len(sequences))\n",
    "sequences = np.array(sequences)\n",
    "sequences[:10]"
   ]
  },
  {
   "cell_type": "code",
   "execution_count": 11,
   "metadata": {},
   "outputs": [],
   "source": [
    "X = []\n",
    "y = []\n",
    "\n",
    "for i in sequences:\n",
    "    X.append(i[0])\n",
    "    y.append(i[1])\n",
    "    \n",
    "X = np.array(X)\n",
    "y = np.array(y)"
   ]
  },
  {
   "cell_type": "code",
   "execution_count": 12,
   "metadata": {},
   "outputs": [
    {
     "name": "stdout",
     "output_type": "stream",
     "text": [
      "The Data is:  [ 17  53 293   2  18]\n",
      "The responses are:  [ 53 293   2  18 729]\n"
     ]
    }
   ],
   "source": [
    "print(\"The Data is: \", X[:5])\n",
    "print(\"The responses are: \", y[:5])"
   ]
  },
  {
   "cell_type": "code",
   "execution_count": 13,
   "metadata": {},
   "outputs": [
    {
     "data": {
      "text/plain": [
       "array([[0., 0., 0., ..., 0., 0., 0.],\n",
       "       [0., 0., 0., ..., 0., 0., 0.],\n",
       "       [0., 0., 1., ..., 0., 0., 0.],\n",
       "       [0., 0., 0., ..., 0., 0., 0.],\n",
       "       [0., 0., 0., ..., 0., 0., 0.]], dtype=float32)"
      ]
     },
     "execution_count": 13,
     "metadata": {},
     "output_type": "execute_result"
    }
   ],
   "source": [
    "y = to_categorical(y, num_classes=vocab_size)\n",
    "y[:5]"
   ]
  },
  {
   "cell_type": "markdown",
   "metadata": {},
   "source": [
    "### Creating the Model:"
   ]
  },
  {
   "cell_type": "code",
   "execution_count": 14,
   "metadata": {},
   "outputs": [],
   "source": [
    "model = Sequential()\n",
    "model.add(Embedding(vocab_size, 10, input_length=1))\n",
    "model.add(LSTM(1000, return_sequences=True))\n",
    "model.add(LSTM(1000))\n",
    "model.add(Dense(1000, activation=\"relu\"))\n",
    "model.add(Dense(vocab_size, activation=\"softmax\"))"
   ]
  },
  {
   "cell_type": "code",
   "execution_count": 15,
   "metadata": {},
   "outputs": [
    {
     "name": "stdout",
     "output_type": "stream",
     "text": [
      "Model: \"sequential\"\n",
      "_________________________________________________________________\n",
      "Layer (type)                 Output Shape              Param #   \n",
      "=================================================================\n",
      "embedding (Embedding)        (None, 1, 10)             26170     \n",
      "_________________________________________________________________\n",
      "lstm (LSTM)                  (None, 1, 1000)           4044000   \n",
      "_________________________________________________________________\n",
      "lstm_1 (LSTM)                (None, 1000)              8004000   \n",
      "_________________________________________________________________\n",
      "dense (Dense)                (None, 1000)              1001000   \n",
      "_________________________________________________________________\n",
      "dense_1 (Dense)              (None, 2617)              2619617   \n",
      "=================================================================\n",
      "Total params: 15,694,787\n",
      "Trainable params: 15,694,787\n",
      "Non-trainable params: 0\n",
      "_________________________________________________________________\n"
     ]
    }
   ],
   "source": [
    "model.summary()"
   ]
  },
  {
   "cell_type": "markdown",
   "metadata": {},
   "source": [
    "### Plot The Model:"
   ]
  },
  {
   "cell_type": "code",
   "execution_count": 16,
   "metadata": {},
   "outputs": [],
   "source": [
    "from tensorflow.keras.callbacks import ModelCheckpoint\n",
    "from tensorflow.keras.callbacks import ReduceLROnPlateau\n",
    "from tensorflow.keras.callbacks import TensorBoard\n",
    "\n",
    "checkpoint = ModelCheckpoint(\"nextword1.h5\", monitor='loss', verbose=1,\n",
    "    save_best_only=True, mode='auto')\n",
    "\n",
    "reduce = ReduceLROnPlateau(monitor='loss', factor=0.2, patience=3, min_lr=0.0001, verbose = 1)\n",
    "\n",
    "logdir='logsnextword1'\n",
    "tensorboard_Visualization = TensorBoard(log_dir=logdir)"
   ]
  },
  {
   "cell_type": "markdown",
   "metadata": {},
   "source": [
    "### Compile The Model:"
   ]
  },
  {
   "cell_type": "code",
   "execution_count": 17,
   "metadata": {},
   "outputs": [],
   "source": [
    "model.compile(loss=\"categorical_crossentropy\", optimizer=Adam(lr=0.001))"
   ]
  },
  {
   "cell_type": "markdown",
   "metadata": {},
   "source": [
    "### Fit The Model:"
   ]
  },
  {
   "cell_type": "code",
   "execution_count": 18,
   "metadata": {
    "tags": [
     "outputPrepend"
    ]
   },
   "outputs": [
    {
     "name": "stdout",
     "output_type": "stream",
     "text": [
      "316 to 4.26598, saving model to nextword1.h5\n",
      "Epoch 28/150\n",
      "61/61 [==============================] - 8s 135ms/step - loss: 4.0318\n",
      "\n",
      "Epoch 00028: loss improved from 4.26598 to 4.23576, saving model to nextword1.h5\n",
      "Epoch 29/150\n",
      "61/61 [==============================] - 8s 135ms/step - loss: 4.0072\n",
      "\n",
      "Epoch 00029: loss improved from 4.23576 to 4.19414, saving model to nextword1.h5\n",
      "Epoch 30/150\n",
      "61/61 [==============================] - 8s 138ms/step - loss: 3.9942\n",
      "\n",
      "Epoch 00030: loss improved from 4.19414 to 4.14495, saving model to nextword1.h5\n",
      "Epoch 31/150\n",
      "61/61 [==============================] - 8s 138ms/step - loss: 3.9017\n",
      "\n",
      "Epoch 00031: loss improved from 4.14495 to 4.08029, saving model to nextword1.h5\n",
      "Epoch 32/150\n",
      "61/61 [==============================] - 8s 137ms/step - loss: 3.8100\n",
      "\n",
      "Epoch 00032: loss improved from 4.08029 to 4.02750, saving model to nextword1.h5\n",
      "Epoch 33/150\n",
      "61/61 [==============================] - 8s 136ms/step - loss: 3.7878\n",
      "\n",
      "Epoch 00033: loss improved from 4.02750 to 3.97385, saving model to nextword1.h5\n",
      "Epoch 34/150\n",
      "61/61 [==============================] - 8s 139ms/step - loss: 3.7492\n",
      "\n",
      "Epoch 00034: loss improved from 3.97385 to 3.95509, saving model to nextword1.h5\n",
      "Epoch 35/150\n",
      "61/61 [==============================] - 9s 140ms/step - loss: 3.7434\n",
      "\n",
      "Epoch 00035: loss improved from 3.95509 to 3.92515, saving model to nextword1.h5\n",
      "Epoch 36/150\n",
      "61/61 [==============================] - 8s 136ms/step - loss: 3.6768\n",
      "\n",
      "Epoch 00036: loss improved from 3.92515 to 3.86989, saving model to nextword1.h5\n",
      "Epoch 37/150\n",
      "61/61 [==============================] - 8s 136ms/step - loss: 3.6282\n",
      "\n",
      "Epoch 00037: loss improved from 3.86989 to 3.81640, saving model to nextword1.h5\n",
      "Epoch 38/150\n",
      "61/61 [==============================] - 8s 136ms/step - loss: 3.5784\n",
      "\n",
      "Epoch 00038: loss improved from 3.81640 to 3.77156, saving model to nextword1.h5\n",
      "Epoch 39/150\n",
      "61/61 [==============================] - 8s 136ms/step - loss: 3.5348\n",
      "\n",
      "Epoch 00039: loss improved from 3.77156 to 3.72339, saving model to nextword1.h5\n",
      "Epoch 40/150\n",
      "61/61 [==============================] - 8s 136ms/step - loss: 3.5276\n",
      "\n",
      "Epoch 00040: loss improved from 3.72339 to 3.69636, saving model to nextword1.h5\n",
      "Epoch 41/150\n",
      "61/61 [==============================] - 8s 136ms/step - loss: 3.4575\n",
      "\n",
      "Epoch 00041: loss improved from 3.69636 to 3.66033, saving model to nextword1.h5\n",
      "Epoch 42/150\n",
      "61/61 [==============================] - 8s 137ms/step - loss: 3.4207\n",
      "\n",
      "Epoch 00042: loss improved from 3.66033 to 3.62473, saving model to nextword1.h5\n",
      "Epoch 43/150\n",
      "61/61 [==============================] - 8s 137ms/step - loss: 3.3870\n",
      "\n",
      "Epoch 00043: loss improved from 3.62473 to 3.56584, saving model to nextword1.h5\n",
      "Epoch 44/150\n",
      "61/61 [==============================] - 8s 135ms/step - loss: 3.3239\n",
      "\n",
      "Epoch 00044: loss improved from 3.56584 to 3.52112, saving model to nextword1.h5\n",
      "Epoch 45/150\n",
      "61/61 [==============================] - 8s 136ms/step - loss: 3.3020\n",
      "\n",
      "Epoch 00045: loss improved from 3.52112 to 3.49663, saving model to nextword1.h5\n",
      "Epoch 46/150\n",
      "61/61 [==============================] - 8s 136ms/step - loss: 3.3079\n",
      "\n",
      "Epoch 00046: loss improved from 3.49663 to 3.48916, saving model to nextword1.h5\n",
      "Epoch 47/150\n",
      "61/61 [==============================] - 8s 136ms/step - loss: 3.2320\n",
      "\n",
      "Epoch 00047: loss improved from 3.48916 to 3.40170, saving model to nextword1.h5\n",
      "Epoch 48/150\n",
      "61/61 [==============================] - 8s 135ms/step - loss: 3.1419\n",
      "\n",
      "Epoch 00048: loss improved from 3.40170 to 3.32026, saving model to nextword1.h5\n",
      "Epoch 49/150\n",
      "61/61 [==============================] - 8s 135ms/step - loss: 3.0787\n",
      "\n",
      "Epoch 00049: loss improved from 3.32026 to 3.27254, saving model to nextword1.h5\n",
      "Epoch 50/150\n",
      "61/61 [==============================] - 8s 135ms/step - loss: 3.0808\n",
      "\n",
      "Epoch 00050: loss improved from 3.27254 to 3.24511, saving model to nextword1.h5\n",
      "Epoch 51/150\n",
      "61/61 [==============================] - 8s 136ms/step - loss: 3.0238\n",
      "\n",
      "Epoch 00051: loss improved from 3.24511 to 3.21665, saving model to nextword1.h5\n",
      "Epoch 52/150\n",
      "61/61 [==============================] - 8s 136ms/step - loss: 2.9408\n",
      "\n",
      "Epoch 00052: loss improved from 3.21665 to 3.11782, saving model to nextword1.h5\n",
      "Epoch 53/150\n",
      "61/61 [==============================] - 8s 138ms/step - loss: 2.8179\n",
      "\n",
      "Epoch 00053: loss improved from 3.11782 to 3.05063, saving model to nextword1.h5\n",
      "Epoch 54/150\n",
      "61/61 [==============================] - 8s 139ms/step - loss: 2.8033\n",
      "\n",
      "Epoch 00054: loss improved from 3.05063 to 2.99971, saving model to nextword1.h5\n",
      "Epoch 55/150\n",
      "61/61 [==============================] - 8s 135ms/step - loss: 2.7111\n",
      "\n",
      "Epoch 00055: loss improved from 2.99971 to 2.93850, saving model to nextword1.h5\n",
      "Epoch 56/150\n",
      "61/61 [==============================] - 8s 138ms/step - loss: 2.6684\n",
      "\n",
      "Epoch 00056: loss improved from 2.93850 to 2.86280, saving model to nextword1.h5\n",
      "Epoch 57/150\n",
      "61/61 [==============================] - 8s 138ms/step - loss: 2.5858\n",
      "\n",
      "Epoch 00057: loss improved from 2.86280 to 2.80861, saving model to nextword1.h5\n",
      "Epoch 58/150\n",
      "61/61 [==============================] - 8s 137ms/step - loss: 2.5087\n",
      "\n",
      "Epoch 00058: loss improved from 2.80861 to 2.73723, saving model to nextword1.h5\n",
      "Epoch 59/150\n",
      "61/61 [==============================] - 8s 137ms/step - loss: 2.4422\n",
      "\n",
      "Epoch 00059: loss improved from 2.73723 to 2.66069, saving model to nextword1.h5\n",
      "Epoch 60/150\n",
      "61/61 [==============================] - 8s 139ms/step - loss: 2.4179\n",
      "\n",
      "Epoch 00060: loss improved from 2.66069 to 2.63615, saving model to nextword1.h5\n",
      "Epoch 61/150\n",
      "61/61 [==============================] - 8s 139ms/step - loss: 2.3476\n",
      "\n",
      "Epoch 00061: loss improved from 2.63615 to 2.57229, saving model to nextword1.h5\n",
      "Epoch 62/150\n",
      "61/61 [==============================] - 8s 137ms/step - loss: 2.2849\n",
      "\n",
      "Epoch 00062: loss improved from 2.57229 to 2.51304, saving model to nextword1.h5\n",
      "Epoch 63/150\n",
      "61/61 [==============================] - 8s 136ms/step - loss: 2.2400\n",
      "\n",
      "Epoch 00063: loss improved from 2.51304 to 2.44235, saving model to nextword1.h5\n",
      "Epoch 64/150\n",
      "61/61 [==============================] - 8s 136ms/step - loss: 2.1699\n",
      "\n",
      "Epoch 00064: loss improved from 2.44235 to 2.38278, saving model to nextword1.h5\n",
      "Epoch 65/150\n",
      "61/61 [==============================] - 8s 136ms/step - loss: 2.1284\n",
      "\n",
      "Epoch 00065: loss improved from 2.38278 to 2.33635, saving model to nextword1.h5\n",
      "Epoch 66/150\n",
      "61/61 [==============================] - 9s 143ms/step - loss: 2.0988\n",
      "\n",
      "Epoch 00066: loss improved from 2.33635 to 2.30538, saving model to nextword1.h5\n",
      "Epoch 67/150\n",
      "61/61 [==============================] - 9s 141ms/step - loss: 2.0546\n",
      "\n",
      "Epoch 00067: loss improved from 2.30538 to 2.29208, saving model to nextword1.h5\n",
      "Epoch 68/150\n",
      "61/61 [==============================] - 8s 138ms/step - loss: 2.0171\n",
      "\n",
      "Epoch 00068: loss improved from 2.29208 to 2.21181, saving model to nextword1.h5\n",
      "Epoch 69/150\n",
      "61/61 [==============================] - 8s 137ms/step - loss: 1.9437\n",
      "\n",
      "Epoch 00069: loss improved from 2.21181 to 2.16653, saving model to nextword1.h5\n",
      "Epoch 70/150\n",
      "61/61 [==============================] - 8s 138ms/step - loss: 1.9013\n",
      "\n",
      "Epoch 00070: loss improved from 2.16653 to 2.12004, saving model to nextword1.h5\n",
      "Epoch 71/150\n",
      "61/61 [==============================] - 10s 165ms/step - loss: 1.8621\n",
      "\n",
      "Epoch 00071: loss improved from 2.12004 to 2.09185, saving model to nextword1.h5\n",
      "Epoch 72/150\n",
      "61/61 [==============================] - 9s 151ms/step - loss: 1.8814\n",
      "\n",
      "Epoch 00072: loss improved from 2.09185 to 2.07597, saving model to nextword1.h5\n",
      "Epoch 73/150\n",
      "61/61 [==============================] - 9s 147ms/step - loss: 1.8279\n",
      "\n",
      "Epoch 00073: loss improved from 2.07597 to 2.03764, saving model to nextword1.h5\n",
      "Epoch 74/150\n",
      "61/61 [==============================] - 9s 144ms/step - loss: 1.8086\n",
      "\n",
      "Epoch 00074: loss improved from 2.03764 to 2.01659, saving model to nextword1.h5\n",
      "Epoch 75/150\n",
      "61/61 [==============================] - 9s 141ms/step - loss: 1.7828\n",
      "\n",
      "Epoch 00075: loss improved from 2.01659 to 1.98676, saving model to nextword1.h5\n",
      "Epoch 76/150\n",
      "61/61 [==============================] - 9s 141ms/step - loss: 1.7479\n",
      "\n",
      "Epoch 00076: loss improved from 1.98676 to 1.95530, saving model to nextword1.h5\n",
      "Epoch 77/150\n",
      "61/61 [==============================] - 9s 144ms/step - loss: 1.7372\n",
      "\n",
      "Epoch 00077: loss improved from 1.95530 to 1.92534, saving model to nextword1.h5\n",
      "Epoch 78/150\n",
      "61/61 [==============================] - 9s 141ms/step - loss: 1.6822\n",
      "\n",
      "Epoch 00078: loss improved from 1.92534 to 1.88927, saving model to nextword1.h5\n",
      "Epoch 79/150\n",
      "61/61 [==============================] - 9s 143ms/step - loss: 1.7002\n",
      "\n",
      "Epoch 00079: loss did not improve from 1.88927\n",
      "Epoch 80/150\n",
      "61/61 [==============================] - 9s 144ms/step - loss: 1.7059\n",
      "\n",
      "Epoch 00080: loss did not improve from 1.88927\n",
      "Epoch 81/150\n",
      "61/61 [==============================] - 9s 142ms/step - loss: 1.6746\n",
      "\n",
      "Epoch 00081: loss improved from 1.88927 to 1.86816, saving model to nextword1.h5\n",
      "Epoch 82/150\n",
      "61/61 [==============================] - 8s 139ms/step - loss: 1.6278\n",
      "\n",
      "Epoch 00082: loss improved from 1.86816 to 1.83745, saving model to nextword1.h5\n",
      "Epoch 83/150\n",
      "61/61 [==============================] - 8s 138ms/step - loss: 1.6017\n",
      "\n",
      "Epoch 00083: loss improved from 1.83745 to 1.77162, saving model to nextword1.h5\n",
      "Epoch 84/150\n",
      "61/61 [==============================] - 9s 142ms/step - loss: 1.5433\n",
      "\n",
      "Epoch 00084: loss improved from 1.77162 to 1.73940, saving model to nextword1.h5\n",
      "Epoch 85/150\n",
      "61/61 [==============================] - 9s 144ms/step - loss: 1.5419\n",
      "\n",
      "Epoch 00085: loss improved from 1.73940 to 1.72572, saving model to nextword1.h5\n",
      "Epoch 86/150\n",
      "61/61 [==============================] - 9s 146ms/step - loss: 1.4981\n",
      "\n",
      "Epoch 00086: loss improved from 1.72572 to 1.71940, saving model to nextword1.h5\n",
      "Epoch 87/150\n",
      "61/61 [==============================] - 9s 144ms/step - loss: 1.5229\n",
      "\n",
      "Epoch 00087: loss improved from 1.71940 to 1.71590, saving model to nextword1.h5\n",
      "Epoch 88/150\n",
      "61/61 [==============================] - 9s 143ms/step - loss: 1.5129\n",
      "\n",
      "Epoch 00088: loss improved from 1.71590 to 1.68465, saving model to nextword1.h5\n",
      "Epoch 89/150\n",
      "61/61 [==============================] - 9s 144ms/step - loss: 1.4562\n",
      "\n",
      "Epoch 00089: loss improved from 1.68465 to 1.65802, saving model to nextword1.h5\n",
      "Epoch 90/150\n",
      "61/61 [==============================] - 9s 140ms/step - loss: 1.4494\n",
      "\n",
      "Epoch 00090: loss improved from 1.65802 to 1.65568, saving model to nextword1.h5\n",
      "Epoch 91/150\n",
      "61/61 [==============================] - 9s 143ms/step - loss: 1.4500\n",
      "\n",
      "Epoch 00091: loss improved from 1.65568 to 1.64756, saving model to nextword1.h5\n",
      "Epoch 92/150\n",
      "61/61 [==============================] - 9s 144ms/step - loss: 1.4424\n",
      "\n",
      "Epoch 00092: loss improved from 1.64756 to 1.62762, saving model to nextword1.h5\n",
      "Epoch 93/150\n",
      "61/61 [==============================] - 9s 145ms/step - loss: 1.4366\n",
      "\n",
      "Epoch 00093: loss improved from 1.62762 to 1.61525, saving model to nextword1.h5\n",
      "Epoch 94/150\n",
      "61/61 [==============================] - 9s 142ms/step - loss: 1.4217\n",
      "\n",
      "Epoch 00094: loss improved from 1.61525 to 1.61453, saving model to nextword1.h5\n",
      "Epoch 95/150\n",
      "61/61 [==============================] - 9s 141ms/step - loss: 1.3874\n",
      "\n",
      "Epoch 00095: loss improved from 1.61453 to 1.58720, saving model to nextword1.h5\n",
      "Epoch 96/150\n",
      "61/61 [==============================] - 9s 140ms/step - loss: 1.4087\n",
      "\n",
      "Epoch 00096: loss improved from 1.58720 to 1.57638, saving model to nextword1.h5\n",
      "Epoch 97/150\n",
      "61/61 [==============================] - 9s 142ms/step - loss: 1.3690\n",
      "\n",
      "Epoch 00097: loss improved from 1.57638 to 1.57153, saving model to nextword1.h5\n",
      "Epoch 98/150\n",
      "61/61 [==============================] - 9s 142ms/step - loss: 1.3621\n",
      "\n",
      "Epoch 00098: loss improved from 1.57153 to 1.54823, saving model to nextword1.h5\n",
      "Epoch 99/150\n",
      "61/61 [==============================] - 9s 142ms/step - loss: 1.3670\n",
      "\n",
      "Epoch 00099: loss improved from 1.54823 to 1.54305, saving model to nextword1.h5\n",
      "Epoch 100/150\n",
      "61/61 [==============================] - 9s 146ms/step - loss: 1.3571\n",
      "\n",
      "Epoch 00100: loss improved from 1.54305 to 1.52898, saving model to nextword1.h5\n",
      "Epoch 101/150\n",
      "61/61 [==============================] - 9s 144ms/step - loss: 1.3535\n",
      "\n",
      "Epoch 00101: loss improved from 1.52898 to 1.52286, saving model to nextword1.h5\n",
      "Epoch 102/150\n",
      "61/61 [==============================] - 9s 139ms/step - loss: 1.2830\n",
      "\n",
      "Epoch 00102: loss improved from 1.52286 to 1.47014, saving model to nextword1.h5\n",
      "Epoch 103/150\n",
      "61/61 [==============================] - 9s 143ms/step - loss: 1.2960\n",
      "\n",
      "Epoch 00103: loss improved from 1.47014 to 1.44314, saving model to nextword1.h5\n",
      "Epoch 104/150\n",
      "61/61 [==============================] - 9s 145ms/step - loss: 1.2803\n",
      "\n",
      "Epoch 00104: loss did not improve from 1.44314\n",
      "Epoch 105/150\n",
      "61/61 [==============================] - 9s 140ms/step - loss: 1.3054\n",
      "\n",
      "Epoch 00105: loss did not improve from 1.44314\n",
      "Epoch 106/150\n",
      "61/61 [==============================] - 9s 143ms/step - loss: 1.2576\n",
      "\n",
      "Epoch 00106: loss did not improve from 1.44314\n",
      "\n",
      "Epoch 00106: ReduceLROnPlateau reducing learning rate to 0.00020000000949949026.\n",
      "Epoch 107/150\n",
      "61/61 [==============================] - 9s 142ms/step - loss: 1.0864\n",
      "\n",
      "Epoch 00107: loss improved from 1.44314 to 1.09992, saving model to nextword1.h5\n",
      "Epoch 108/150\n",
      "61/61 [==============================] - 8s 139ms/step - loss: 0.9065\n",
      "\n",
      "Epoch 00108: loss improved from 1.09992 to 0.95456, saving model to nextword1.h5\n",
      "Epoch 109/150\n",
      "61/61 [==============================] - 9s 143ms/step - loss: 0.8797\n",
      "\n",
      "Epoch 00109: loss improved from 0.95456 to 0.90110, saving model to nextword1.h5\n",
      "Epoch 110/150\n",
      "61/61 [==============================] - 9s 143ms/step - loss: 0.8381\n",
      "\n",
      "Epoch 00110: loss improved from 0.90110 to 0.87361, saving model to nextword1.h5\n",
      "Epoch 111/150\n",
      "61/61 [==============================] - 9s 144ms/step - loss: 0.8141\n",
      "\n",
      "Epoch 00111: loss improved from 0.87361 to 0.85804, saving model to nextword1.h5\n",
      "Epoch 112/150\n",
      "61/61 [==============================] - 9s 141ms/step - loss: 0.8102\n",
      "\n",
      "Epoch 00112: loss improved from 0.85804 to 0.84777, saving model to nextword1.h5\n",
      "Epoch 113/150\n",
      "61/61 [==============================] - 9s 140ms/step - loss: 0.8134\n",
      "\n",
      "Epoch 00113: loss improved from 0.84777 to 0.83760, saving model to nextword1.h5\n",
      "Epoch 114/150\n",
      "61/61 [==============================] - 9s 146ms/step - loss: 0.7840\n",
      "\n",
      "Epoch 00114: loss improved from 0.83760 to 0.83194, saving model to nextword1.h5\n",
      "Epoch 115/150\n",
      "61/61 [==============================] - 9s 144ms/step - loss: 0.7756\n",
      "\n",
      "Epoch 00115: loss improved from 0.83194 to 0.82454, saving model to nextword1.h5\n",
      "Epoch 116/150\n",
      "61/61 [==============================] - 9s 141ms/step - loss: 0.7646\n",
      "\n",
      "Epoch 00116: loss improved from 0.82454 to 0.82179, saving model to nextword1.h5\n",
      "Epoch 117/150\n",
      "61/61 [==============================] - 9s 144ms/step - loss: 0.7799\n",
      "\n",
      "Epoch 00117: loss improved from 0.82179 to 0.81819, saving model to nextword1.h5\n",
      "Epoch 118/150\n",
      "61/61 [==============================] - 10s 158ms/step - loss: 0.7291\n",
      "\n",
      "Epoch 00118: loss improved from 0.81819 to 0.81020, saving model to nextword1.h5\n",
      "Epoch 119/150\n",
      "61/61 [==============================] - 9s 152ms/step - loss: 0.7578\n",
      "\n",
      "Epoch 00119: loss improved from 0.81020 to 0.80723, saving model to nextword1.h5\n",
      "Epoch 120/150\n",
      "61/61 [==============================] - 9s 146ms/step - loss: 0.7428\n",
      "\n",
      "Epoch 00120: loss improved from 0.80723 to 0.80547, saving model to nextword1.h5\n",
      "Epoch 121/150\n",
      "61/61 [==============================] - 9s 140ms/step - loss: 0.7441\n",
      "\n",
      "Epoch 00121: loss improved from 0.80547 to 0.80071, saving model to nextword1.h5\n",
      "Epoch 122/150\n",
      "61/61 [==============================] - 9s 146ms/step - loss: 0.7381\n",
      "\n",
      "Epoch 00122: loss did not improve from 0.80071\n",
      "Epoch 123/150\n",
      "61/61 [==============================] - 9s 146ms/step - loss: 0.7557\n",
      "\n",
      "Epoch 00123: loss improved from 0.80071 to 0.80045, saving model to nextword1.h5\n",
      "Epoch 124/150\n",
      "61/61 [==============================] - 9s 145ms/step - loss: 0.7536\n",
      "\n",
      "Epoch 00124: loss improved from 0.80045 to 0.79684, saving model to nextword1.h5\n",
      "Epoch 125/150\n",
      "61/61 [==============================] - 9s 147ms/step - loss: 0.7328\n",
      "\n",
      "Epoch 00125: loss improved from 0.79684 to 0.79123, saving model to nextword1.h5\n",
      "Epoch 126/150\n",
      "61/61 [==============================] - 9s 150ms/step - loss: 0.7370\n",
      "\n",
      "Epoch 00126: loss did not improve from 0.79123\n",
      "Epoch 127/150\n",
      "61/61 [==============================] - 9s 153ms/step - loss: 0.7415\n",
      "\n",
      "Epoch 00127: loss improved from 0.79123 to 0.78682, saving model to nextword1.h5\n",
      "Epoch 128/150\n",
      "61/61 [==============================] - 9s 144ms/step - loss: 0.7240\n",
      "\n",
      "Epoch 00128: loss did not improve from 0.78682\n",
      "Epoch 129/150\n",
      "61/61 [==============================] - 9s 145ms/step - loss: 0.7285\n",
      "\n",
      "Epoch 00129: loss did not improve from 0.78682\n",
      "Epoch 130/150\n",
      "61/61 [==============================] - 9s 144ms/step - loss: 0.7209\n",
      "\n",
      "Epoch 00130: loss improved from 0.78682 to 0.78366, saving model to nextword1.h5\n",
      "Epoch 131/150\n",
      "61/61 [==============================] - 9s 142ms/step - loss: 0.7233\n",
      "\n",
      "Epoch 00131: loss improved from 0.78366 to 0.78091, saving model to nextword1.h5\n",
      "Epoch 132/150\n",
      "61/61 [==============================] - 9s 146ms/step - loss: 0.7241\n",
      "\n",
      "Epoch 00132: loss improved from 0.78091 to 0.78065, saving model to nextword1.h5\n",
      "Epoch 133/150\n",
      "61/61 [==============================] - 10s 165ms/step - loss: 0.7212\n",
      "\n",
      "Epoch 00133: loss improved from 0.78065 to 0.77735, saving model to nextword1.h5\n",
      "Epoch 134/150\n",
      "61/61 [==============================] - 9s 141ms/step - loss: 0.7225\n",
      "\n",
      "Epoch 00134: loss improved from 0.77735 to 0.77630, saving model to nextword1.h5\n",
      "Epoch 135/150\n",
      "61/61 [==============================] - 8s 137ms/step - loss: 0.7215\n",
      "\n",
      "Epoch 00135: loss did not improve from 0.77630\n",
      "Epoch 136/150\n",
      "61/61 [==============================] - 8s 136ms/step - loss: 0.7165\n",
      "\n",
      "Epoch 00136: loss improved from 0.77630 to 0.77451, saving model to nextword1.h5\n",
      "Epoch 137/150\n",
      "61/61 [==============================] - 8s 136ms/step - loss: 0.7057\n",
      "\n",
      "Epoch 00137: loss improved from 0.77451 to 0.77407, saving model to nextword1.h5\n",
      "Epoch 138/150\n",
      "61/61 [==============================] - 8s 137ms/step - loss: 0.7132\n",
      "\n",
      "Epoch 00138: loss improved from 0.77407 to 0.77195, saving model to nextword1.h5\n",
      "Epoch 139/150\n",
      "61/61 [==============================] - 8s 137ms/step - loss: 0.7011\n",
      "\n",
      "Epoch 00139: loss improved from 0.77195 to 0.77111, saving model to nextword1.h5\n",
      "Epoch 140/150\n",
      "61/61 [==============================] - 8s 138ms/step - loss: 0.7106\n",
      "\n",
      "Epoch 00140: loss improved from 0.77111 to 0.76878, saving model to nextword1.h5\n",
      "Epoch 141/150\n",
      "61/61 [==============================] - 8s 137ms/step - loss: 0.7195\n",
      "\n",
      "Epoch 00141: loss did not improve from 0.76878\n",
      "Epoch 142/150\n",
      "61/61 [==============================] - 8s 137ms/step - loss: 0.6972\n",
      "\n",
      "Epoch 00142: loss improved from 0.76878 to 0.76585, saving model to nextword1.h5\n",
      "Epoch 143/150\n",
      "61/61 [==============================] - 8s 137ms/step - loss: 0.7071\n",
      "\n",
      "Epoch 00143: loss improved from 0.76585 to 0.76484, saving model to nextword1.h5\n",
      "Epoch 144/150\n",
      "61/61 [==============================] - 8s 137ms/step - loss: 0.6957\n",
      "\n",
      "Epoch 00144: loss improved from 0.76484 to 0.76260, saving model to nextword1.h5\n",
      "Epoch 145/150\n",
      "61/61 [==============================] - 8s 137ms/step - loss: 0.7126\n",
      "\n",
      "Epoch 00145: loss did not improve from 0.76260\n",
      "Epoch 146/150\n",
      "61/61 [==============================] - 8s 138ms/step - loss: 0.6878\n",
      "\n",
      "Epoch 00146: loss improved from 0.76260 to 0.75992, saving model to nextword1.h5\n",
      "Epoch 147/150\n",
      "61/61 [==============================] - 8s 139ms/step - loss: 0.7070\n",
      "\n",
      "Epoch 00147: loss improved from 0.75992 to 0.75828, saving model to nextword1.h5\n",
      "Epoch 148/150\n",
      "61/61 [==============================] - 8s 138ms/step - loss: 0.6944\n",
      "\n",
      "Epoch 00148: loss improved from 0.75828 to 0.75695, saving model to nextword1.h5\n",
      "Epoch 149/150\n",
      "61/61 [==============================] - 8s 137ms/step - loss: 0.6881\n",
      "\n",
      "Epoch 00149: loss did not improve from 0.75695\n",
      "Epoch 150/150\n",
      "61/61 [==============================] - 8s 137ms/step - loss: 0.6908\n",
      "\n",
      "Epoch 00150: loss did not improve from 0.75695\n"
     ]
    },
    {
     "data": {
      "text/plain": [
       "<tensorflow.python.keras.callbacks.History at 0x24884c64d88>"
      ]
     },
     "execution_count": 18,
     "metadata": {},
     "output_type": "execute_result"
    }
   ],
   "source": [
    "model.fit(X, y, epochs=150, batch_size=64, callbacks=[checkpoint, reduce, tensorboard_Visualization])"
   ]
  },
  {
   "cell_type": "markdown",
   "metadata": {},
   "source": [
    "## Observation:\n",
    "### We are able to develop a decent next word prediction model and are able to get a declining loss and an overall decent performance."
   ]
  }
 ],
 "metadata": {
  "kernelspec": {
   "display_name": "Python 3.7.9 64-bit",
   "name": "python379jvsc74a57bd0be96aa68b4429675f04775bc3c2b2c4e3cb4d301e32e4db1e9505473ff69dbe5"
  },
  "language_info": {
   "codemirror_mode": {
    "name": "ipython",
    "version": 3
   },
   "file_extension": ".py",
   "mimetype": "text/x-python",
   "name": "python",
   "nbconvert_exporter": "python",
   "pygments_lexer": "ipython3",
   "version": "3.7.9-final"
  }
 },
 "nbformat": 4,
 "nbformat_minor": 2
}
